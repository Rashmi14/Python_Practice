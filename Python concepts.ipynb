{
 "cells": [
  {
   "cell_type": "code",
   "execution_count": 1,
   "id": "5c623b1c",
   "metadata": {},
   "outputs": [
    {
     "name": "stdout",
     "output_type": "stream",
     "text": [
      "4\n",
      "3\n",
      "2\n",
      "1\n"
     ]
    }
   ],
   "source": [
    "a=[1,2,3,4]\n",
    "while a:\n",
    "    print(a.pop())"
   ]
  },
  {
   "cell_type": "code",
   "execution_count": 3,
   "id": "479cf6dc",
   "metadata": {},
   "outputs": [
    {
     "name": "stdout",
     "output_type": "stream",
     "text": [
      "0\n",
      "1\n",
      "2\n",
      "3\n",
      "4\n"
     ]
    }
   ],
   "source": [
    "for i in range(5):\n",
    "    print(i,end=\"\")\n",
    "    print()"
   ]
  },
  {
   "cell_type": "code",
   "execution_count": 4,
   "id": "92baac51",
   "metadata": {},
   "outputs": [
    {
     "name": "stdout",
     "output_type": "stream",
     "text": [
      "0\n",
      "1\n",
      "2\n",
      "3\n",
      "4\n",
      "5\n"
     ]
    }
   ],
   "source": [
    "for i in range(6):\n",
    "    print(i,end=\"\")\n",
    "    print()"
   ]
  },
  {
   "cell_type": "code",
   "execution_count": 5,
   "id": "710ab934",
   "metadata": {},
   "outputs": [
    {
     "name": "stdout",
     "output_type": "stream",
     "text": [
      "5678910111213141516171819"
     ]
    }
   ],
   "source": [
    "for i in range(5,20):\n",
    "    print(i,end=\"\")"
   ]
  },
  {
   "cell_type": "code",
   "execution_count": 6,
   "id": "08e84bb9",
   "metadata": {},
   "outputs": [
    {
     "name": "stdout",
     "output_type": "stream",
     "text": [
      "02468"
     ]
    }
   ],
   "source": [
    "for i in range(0,10,2):\n",
    "    print(i,end=\"\")"
   ]
  },
  {
   "cell_type": "code",
   "execution_count": 7,
   "id": "5af7686b",
   "metadata": {},
   "outputs": [
    {
     "name": "stdout",
     "output_type": "stream",
     "text": [
      "0\n",
      "2\n",
      "4\n",
      "6\n",
      "8\n"
     ]
    }
   ],
   "source": [
    "for i in range(0,10,2):\n",
    "    print(i,end=\"\")\n",
    "    print()"
   ]
  },
  {
   "cell_type": "code",
   "execution_count": 8,
   "id": "004a7dd1",
   "metadata": {},
   "outputs": [
    {
     "name": "stdout",
     "output_type": "stream",
     "text": [
      "geeks\n",
      "for\n",
      "geeks\n"
     ]
    }
   ],
   "source": [
    "l=[\"geeks\",\"for\",\"geeks\"]\n",
    "for i in l:\n",
    "    print(i)"
   ]
  },
  {
   "cell_type": "code",
   "execution_count": 11,
   "id": "c9626848",
   "metadata": {},
   "outputs": [
    {
     "name": "stdout",
     "output_type": "stream",
     "text": [
      "xyz 123\n",
      "abc 345\n"
     ]
    }
   ],
   "source": [
    "d={'xyz':123,'abc':345}\n",
    "for i in d:\n",
    "    print(i,d[i])"
   ]
  },
  {
   "cell_type": "code",
   "execution_count": 12,
   "id": "54328e2b",
   "metadata": {},
   "outputs": [
    {
     "name": "stdout",
     "output_type": "stream",
     "text": [
      "0\n",
      "1\n",
      "2\n"
     ]
    }
   ],
   "source": [
    "for i in range(10):\n",
    "    print(i)\n",
    "    if i==2:\n",
    "        break"
   ]
  },
  {
   "cell_type": "code",
   "execution_count": 1,
   "id": "083140dc",
   "metadata": {},
   "outputs": [
    {
     "name": "stdout",
     "output_type": "stream",
     "text": [
      "g\n",
      "e\n",
      "Out of the for loop\n",
      "\n",
      "g\n",
      "e\n",
      "Out of while loop\n"
     ]
    }
   ],
   "source": [
    "s='geeksforgeeks'\n",
    "for letter in s:\n",
    "    print(letter)\n",
    "    if letter=='e'or letter=='s':\n",
    "        break\n",
    "print('Out of the for loop')\n",
    "print()\n",
    "i=0\n",
    "while True:\n",
    "    print(s[i])\n",
    "    if s[i]=='e' or s[i]=='s':\n",
    "        break\n",
    "    i+=1\n",
    "print(\"Out of while loop\")"
   ]
  },
  {
   "cell_type": "code",
   "execution_count": 6,
   "id": "685120e5",
   "metadata": {},
   "outputs": [
    {
     "name": "stdout",
     "output_type": "stream",
     "text": [
      "G\n",
      "k\n",
      "s\n",
      "f\n",
      "o\n",
      "r\n",
      "g\n",
      "k\n",
      "s\n"
     ]
    }
   ],
   "source": [
    "for var in \"Geeksforgeeks\":\n",
    "    if var=='e':\n",
    "        #print(\"continue\")\n",
    "        continue\n",
    "    print(var)"
   ]
  },
  {
   "cell_type": "code",
   "execution_count": 7,
   "id": "18f0ef02",
   "metadata": {},
   "outputs": [
    {
     "name": "stdout",
     "output_type": "stream",
     "text": [
      "G\n",
      "continue\n",
      "continue\n",
      "k\n",
      "s\n",
      "f\n",
      "o\n",
      "r\n",
      "g\n",
      "continue\n",
      "continue\n",
      "k\n",
      "s\n"
     ]
    }
   ],
   "source": [
    "for var in \"Geeksforgeeks\":\n",
    "    if var=='e':\n",
    "        print(\"continue\")\n",
    "        continue\n",
    "    print(var)"
   ]
  },
  {
   "cell_type": "code",
   "execution_count": 11,
   "id": "36c4b2c2",
   "metadata": {},
   "outputs": [
    {
     "name": "stdout",
     "output_type": "stream",
     "text": [
      "123457910"
     ]
    }
   ],
   "source": [
    "for i in range(1,11):\n",
    "    if i==6 or i==8:\n",
    "        continue\n",
    "    else:\n",
    "        print(i,end=\"\")"
   ]
  },
  {
   "cell_type": "code",
   "execution_count": 12,
   "id": "e805f821",
   "metadata": {},
   "outputs": [
    {
     "name": "stdout",
     "output_type": "stream",
     "text": [
      "1 4\n",
      "1 5\n",
      "2 4\n",
      "2 5\n"
     ]
    }
   ],
   "source": [
    "x=[1,2]\n",
    "y=[4,5]\n",
    "for i in x:\n",
    "    for j in y:\n",
    "        print(i,j)"
   ]
  },
  {
   "cell_type": "code",
   "execution_count": 15,
   "id": "e920bb5f",
   "metadata": {},
   "outputs": [
    {
     "name": "stdout",
     "output_type": "stream",
     "text": [
      "Welcome to Gfg\n"
     ]
    }
   ],
   "source": [
    "print(\"Welcome\",end=\" \")\n",
    "print(\"to Gfg\")"
   ]
  },
  {
   "cell_type": "code",
   "execution_count": 16,
   "id": "87be29b9",
   "metadata": {},
   "outputs": [
    {
     "name": "stdout",
     "output_type": "stream",
     "text": [
      "06-01-2024\n"
     ]
    }
   ],
   "source": [
    "print(\"06\",\"01\",\"2024\",sep=\"-\")"
   ]
  },
  {
   "cell_type": "code",
   "execution_count": 18,
   "id": "66ce27e8",
   "metadata": {},
   "outputs": [
    {
     "name": "stdout",
     "output_type": "stream",
     "text": [
      "2 * 1 = 2\n",
      "2 * 2 = 4\n",
      "2 * 3 = 6\n",
      "2 * 4 = 8\n",
      "2 * 5 = 10\n",
      "2 * 6 = 12\n",
      "2 * 7 = 14\n",
      "2 * 8 = 16\n",
      "2 * 9 = 18\n",
      "2 * 10 = 20\n",
      "3 * 1 = 3\n",
      "3 * 2 = 6\n",
      "3 * 3 = 9\n",
      "3 * 4 = 12\n",
      "3 * 5 = 15\n",
      "3 * 6 = 18\n",
      "3 * 7 = 21\n",
      "3 * 8 = 24\n",
      "3 * 9 = 27\n",
      "3 * 10 = 30\n",
      "\n"
     ]
    }
   ],
   "source": [
    "for i in range(2,4):\n",
    "    for j in range(1,11):\n",
    "        print(i,\"*\",j,\"=\",i*j)\n",
    "print()"
   ]
  },
  {
   "cell_type": "code",
   "execution_count": 9,
   "id": "f0ae7781",
   "metadata": {},
   "outputs": [
    {
     "name": "stdout",
     "output_type": "stream",
     "text": [
      "Enter year:2024\n",
      "                                    2024\n",
      "\n",
      "      January                     February                     March\n",
      "Mo Tu We Th Fr Sa Su        Mo Tu We Th Fr Sa Su        Mo Tu We Th Fr Sa Su\n",
      " 1  2  3  4  5  6  7                  1  2  3  4                     1  2  3\n",
      " 8  9 10 11 12 13 14         5  6  7  8  9 10 11         4  5  6  7  8  9 10\n",
      "15 16 17 18 19 20 21        12 13 14 15 16 17 18        11 12 13 14 15 16 17\n",
      "22 23 24 25 26 27 28        19 20 21 22 23 24 25        18 19 20 21 22 23 24\n",
      "29 30 31                    26 27 28 29                 25 26 27 28 29 30 31\n",
      "\n",
      "       April                        May                         June\n",
      "Mo Tu We Th Fr Sa Su        Mo Tu We Th Fr Sa Su        Mo Tu We Th Fr Sa Su\n",
      " 1  2  3  4  5  6  7               1  2  3  4  5                        1  2\n",
      " 8  9 10 11 12 13 14         6  7  8  9 10 11 12         3  4  5  6  7  8  9\n",
      "15 16 17 18 19 20 21        13 14 15 16 17 18 19        10 11 12 13 14 15 16\n",
      "22 23 24 25 26 27 28        20 21 22 23 24 25 26        17 18 19 20 21 22 23\n",
      "29 30                       27 28 29 30 31              24 25 26 27 28 29 30\n",
      "\n",
      "        July                       August                    September\n",
      "Mo Tu We Th Fr Sa Su        Mo Tu We Th Fr Sa Su        Mo Tu We Th Fr Sa Su\n",
      " 1  2  3  4  5  6  7                  1  2  3  4                           1\n",
      " 8  9 10 11 12 13 14         5  6  7  8  9 10 11         2  3  4  5  6  7  8\n",
      "15 16 17 18 19 20 21        12 13 14 15 16 17 18         9 10 11 12 13 14 15\n",
      "22 23 24 25 26 27 28        19 20 21 22 23 24 25        16 17 18 19 20 21 22\n",
      "29 30 31                    26 27 28 29 30 31           23 24 25 26 27 28 29\n",
      "                                                        30\n",
      "\n",
      "      October                     November                    December\n",
      "Mo Tu We Th Fr Sa Su        Mo Tu We Th Fr Sa Su        Mo Tu We Th Fr Sa Su\n",
      "    1  2  3  4  5  6                     1  2  3                           1\n",
      " 7  8  9 10 11 12 13         4  5  6  7  8  9 10         2  3  4  5  6  7  8\n",
      "14 15 16 17 18 19 20        11 12 13 14 15 16 17         9 10 11 12 13 14 15\n",
      "21 22 23 24 25 26 27        18 19 20 21 22 23 24        16 17 18 19 20 21 22\n",
      "28 29 30 31                 25 26 27 28 29 30           23 24 25 26 27 28 29\n",
      "                                                        30 31\n",
      "\n"
     ]
    }
   ],
   "source": [
    "from calendar import*\n",
    "year=int(input('Enter year:'))\n",
    "print(calendar(year,2,1,8,3))"
   ]
  },
  {
   "cell_type": "code",
   "execution_count": 12,
   "id": "feca3c96",
   "metadata": {},
   "outputs": [
    {
     "name": "stdout",
     "output_type": "stream",
     "text": [
      "Start Outer for loop\n",
      "I am healthy\n",
      "I am fine\n",
      "I am geek\n",
      "End while loop\n",
      "Start Outer for loop\n",
      "You are healthy\n",
      "You are fine\n",
      "You are geek\n",
      "End while loop\n",
      "End for loop\n"
     ]
    }
   ],
   "source": [
    "list1=[\"I am\",\"You are\"]\n",
    "list2=[\"healthy\",\"fine\",\"geek\"]\n",
    "list2_size=len(list2)\n",
    "for item in list1:\n",
    "    print(\"Start Outer for loop\")\n",
    "    i=0\n",
    "    while(i<list2_size):\n",
    "        print(item,list2[i])\n",
    "        i=i+1\n",
    "    print(\"End while loop\")\n",
    "print(\"End for loop\")"
   ]
  },
  {
   "cell_type": "code",
   "execution_count": 16,
   "id": "a9fda0a5",
   "metadata": {},
   "outputs": [
    {
     "name": "stdout",
     "output_type": "stream",
     "text": [
      "Welcome to Gfg\n"
     ]
    }
   ],
   "source": [
    "def fun():\n",
    "    print(\"Welcome to Gfg\")\n",
    "fun()"
   ]
  },
  {
   "cell_type": "code",
   "execution_count": 19,
   "id": "b282f196",
   "metadata": {},
   "outputs": [
    {
     "name": "stdout",
     "output_type": "stream",
     "text": [
      "False True\n"
     ]
    }
   ],
   "source": [
    "def is_prime(n):\n",
    "    if n in [2,3]:\n",
    "        return True\n",
    "    if (n==1) or (n%2==0):\n",
    "        return False\n",
    "    r=3\n",
    "    while (r*r<=n):\n",
    "        if n%r==0:\n",
    "            return False\n",
    "        r+=2\n",
    "        return True\n",
    "print(is_prime(78),is_prime(79))"
   ]
  },
  {
   "cell_type": "code",
   "execution_count": 25,
   "id": "bac6e3af",
   "metadata": {},
   "outputs": [
    {
     "name": "stdout",
     "output_type": "stream",
     "text": [
      "even\n",
      "odd\n"
     ]
    }
   ],
   "source": [
    "def evenodd(x):\n",
    "    if(x%2==0):\n",
    "        print(\"even\")\n",
    "    else:\n",
    "        print(\"odd\")\n",
    "evenodd(2)\n",
    "evenodd(3)"
   ]
  },
  {
   "cell_type": "code",
   "execution_count": 27,
   "id": "ef47123e",
   "metadata": {},
   "outputs": [
    {
     "name": "stdout",
     "output_type": "stream",
     "text": [
      "x: 10\n",
      "y: 50\n"
     ]
    }
   ],
   "source": [
    "def myfunc(x,y=50):\n",
    "    print(\"x:\",x)\n",
    "    print(\"y:\",y)\n",
    "myfunc(10)"
   ]
  },
  {
   "cell_type": "code",
   "execution_count": 28,
   "id": "e3a37fd2",
   "metadata": {},
   "outputs": [
    {
     "name": "stdout",
     "output_type": "stream",
     "text": [
      "Rashmi Rawat\n",
      "Shaurya Rawat\n"
     ]
    }
   ],
   "source": [
    "def student(firstname,lastname):\n",
    "    print(firstname,lastname)\n",
    "student(firstname=\"Rashmi\",lastname=\"Rawat\")\n",
    "student(lastname=\"Rawat\",firstname=\"Shaurya\")"
   ]
  },
  {
   "cell_type": "code",
   "execution_count": 29,
   "id": "ce28509f",
   "metadata": {},
   "outputs": [
    {
     "name": "stdout",
     "output_type": "stream",
     "text": [
      "Hello\n",
      "Welcome\n",
      "to\n",
      "Geeksforgeeks\n"
     ]
    }
   ],
   "source": [
    "def myfunc(*argv):\n",
    "    for arg in argv:\n",
    "        print(arg)\n",
    "myfunc(\"Hello\",\"Welcome\",\"to\",\"Geeksforgeeks\")"
   ]
  },
  {
   "cell_type": "code",
   "execution_count": 35,
   "id": "b14a2925",
   "metadata": {},
   "outputs": [
    {
     "name": "stdout",
     "output_type": "stream",
     "text": [
      "Function to check whether x is even or odd\n"
     ]
    }
   ],
   "source": [
    "def evenodd(x):\n",
    "    \"Function to check whether x is even or odd\"\n",
    "    if(x%2==0):\n",
    "        print(\"Even\")\n",
    "    else:\n",
    "        print(\"Odd\")\n",
    "print(evenodd.__doc__)"
   ]
  },
  {
   "cell_type": "code",
   "execution_count": 37,
   "id": "b4de76d4",
   "metadata": {},
   "outputs": [
    {
     "name": "stdout",
     "output_type": "stream",
     "text": [
      "This function returns the square value of the entered number\n",
      "4\n",
      "16\n"
     ]
    }
   ],
   "source": [
    "def square_value(num):\n",
    "    \"This function returns the square value of the entered number\"\n",
    "    return num**2\n",
    "print(square_value.__doc__)\n",
    "print(square_value(2))\n",
    "print(square_value(4))"
   ]
  },
  {
   "cell_type": "code",
   "execution_count": 39,
   "id": "798192d8",
   "metadata": {},
   "outputs": [
    {
     "name": "stdout",
     "output_type": "stream",
     "text": [
      "[20, 11, 12, 13, 14, 15]\n"
     ]
    }
   ],
   "source": [
    "def myFun(x):\n",
    "    x[0]=20\n",
    "lst=[10,11,12,13,14,15]\n",
    "myFun(lst)\n",
    "print(lst)"
   ]
  },
  {
   "cell_type": "code",
   "execution_count": 44,
   "id": "2749bdab",
   "metadata": {},
   "outputs": [
    {
     "name": "stdout",
     "output_type": "stream",
     "text": [
      "String with the use of single quotes: \n",
      "Welcome to the geek world\n",
      "String with the use of double quotes: \n",
      "I am a geek\n",
      "\n",
      " String with the use of triple quotes:\n",
      " \n",
      "Hello Geeks! \n",
      "\n",
      " String with the use of multiline string\n",
      "Geeks\n",
      "           for\n",
      "           geeks \n"
     ]
    }
   ],
   "source": [
    "string1='Welcome to the geek world'\n",
    "print(\"String with the use of single quotes: \")\n",
    "print(string1)\n",
    "string2=\"I am a geek\"\n",
    "print(\"String with the use of double quotes: \")\n",
    "print(string2)\n",
    "string3='''Hello Geeks! '''\n",
    "print(\"\\n String with the use of triple quotes:\\n \")\n",
    "print(string3)\n",
    "string4='''Geeks\n",
    "           for\n",
    "           geeks '''\n",
    "print(\"\\n String with the use of multiline string\")\n",
    "print(string4)"
   ]
  },
  {
   "cell_type": "code",
   "execution_count": 46,
   "id": "9a03093b",
   "metadata": {},
   "outputs": [
    {
     "name": "stdout",
     "output_type": "stream",
     "text": [
      "Initial String:\n",
      "Geeks for geeks\n",
      "\n",
      " First character of string is:  \n",
      "G\n",
      "\n",
      " Last character of string is: \n",
      "s\n"
     ]
    }
   ],
   "source": [
    "string1=\"Geeks for geeks\"\n",
    "print(\"Initial String:\")\n",
    "print(string1)\n",
    "print(\"\\n First character of string is:  \")\n",
    "print(string1[0])\n",
    "print(\"\\n Last character of string is: \")\n",
    "print(string1[-1])"
   ]
  },
  {
   "cell_type": "code",
   "execution_count": 47,
   "id": "aacce364",
   "metadata": {},
   "outputs": [
    {
     "name": "stdout",
     "output_type": "stream",
     "text": [
      "skeegrofskeeg\n"
     ]
    }
   ],
   "source": [
    "#Program to reverse a string\n",
    "gfg=\"geeksforgeeks\"\n",
    "print(gfg[::-1])"
   ]
  },
  {
   "cell_type": "code",
   "execution_count": 49,
   "id": "5b9e0a5a",
   "metadata": {},
   "outputs": [
    {
     "name": "stdout",
     "output_type": "stream",
     "text": [
      "Initial String:\n",
      "Geeksforgeeks\n",
      "\n",
      " Slicing characters for 3-12:  \n",
      "ksforgeek\n",
      "\n",
      " Slicing characters between :  3rd and 2nd last characters: \n",
      "ksforgee\n"
     ]
    }
   ],
   "source": [
    "#String slicing\n",
    "string1=\"Geeksforgeeks\"\n",
    "print(\"Initial String:\")\n",
    "print(string1)\n",
    "print(\"\\n Slicing characters for 3-12:  \")\n",
    "print(string1[3:12])\n",
    "print(\"\\n Slicing characters between : \" + \" 3rd and 2nd last characters: \")\n",
    "print(string1[3:-2])"
   ]
  },
  {
   "cell_type": "code",
   "execution_count": 51,
   "id": "b765dd0b",
   "metadata": {},
   "outputs": [
    {
     "name": "stdout",
     "output_type": "stream",
     "text": [
      "a\n"
     ]
    }
   ],
   "source": [
    "print(chr(97))"
   ]
  },
  {
   "cell_type": "code",
   "execution_count": 52,
   "id": "98ae21b3",
   "metadata": {},
   "outputs": [
    {
     "name": "stdout",
     "output_type": "stream",
     "text": [
      "['Geeks', 'for', 'geeks']\n"
     ]
    }
   ],
   "source": [
    "var=[\"Geeks\",\"for\",\"geeks\"]\n",
    "print(var)"
   ]
  },
  {
   "cell_type": "code",
   "execution_count": 53,
   "id": "7f15fc5b",
   "metadata": {},
   "outputs": [
    {
     "name": "stdout",
     "output_type": "stream",
     "text": [
      "Blank list: \n",
      "list\n",
      "\n",
      " list of numbers: \n",
      "[10, 20, 30]\n"
     ]
    }
   ],
   "source": [
    "list=[]\n",
    "print(\"Blank list: \")\n",
    "print(\"list\")\n",
    "list=[10,20,30]\n",
    "print(\"\\n list of numbers: \")\n",
    "print(list)"
   ]
  },
  {
   "cell_type": "code",
   "execution_count": 54,
   "id": "8eb61d23",
   "metadata": {},
   "outputs": [
    {
     "name": "stdout",
     "output_type": "stream",
     "text": [
      "Accessing a element: \n",
      "Geeks\n",
      "geeks\n"
     ]
    }
   ],
   "source": [
    "list=[\"Geeks\",\"for\",\"geeks\"]\n",
    "print(\"Accessing a element: \")\n",
    "print(list[0])\n",
    "print(list[2])"
   ]
  },
  {
   "cell_type": "code",
   "execution_count": 55,
   "id": "5a574016",
   "metadata": {},
   "outputs": [
    {
     "name": "stdout",
     "output_type": "stream",
     "text": [
      "0\n",
      "3\n"
     ]
    }
   ],
   "source": [
    "list1=[]\n",
    "print(len(list1))\n",
    "list2= [1,2,3]\n",
    "print(len(list2))"
   ]
  },
  {
   "cell_type": "code",
   "execution_count": 58,
   "id": "cd89b691",
   "metadata": {},
   "outputs": [
    {
     "name": "stdout",
     "output_type": "stream",
     "text": [
      "Initial blank list: \n",
      "[]\n",
      "\n",
      " List after addition of three elements: \n",
      "[1, 2, 4]\n",
      "\n",
      " list after addition of elements from 1-3: \n",
      "[1, 2, 4, 1, 2, 3]\n",
      "\n",
      " list after addition of tuple: \n",
      "[1, 2, 4, 1, 2, 3, (5, 6)]\n",
      "\n",
      " list after addition of list2: \n",
      "[1, 2, 4, 1, 2, 3, (5, 6), ['For', 'Geeks']]\n"
     ]
    }
   ],
   "source": [
    "list=[]\n",
    "print(\"Initial blank list: \")\n",
    "print(list)\n",
    "list.append(1)\n",
    "list.append(2)\n",
    "list.append(4)\n",
    "print(\"\\n List after addition of three elements: \")\n",
    "print(list)\n",
    "for i in range(1,4):\n",
    "    list.append(i)\n",
    "print(\"\\n list after addition of elements from 1-3: \")\n",
    "print(list)\n",
    "list.append((5,6))\n",
    "print(\"\\n list after addition of tuple: \")\n",
    "print(list)\n",
    "list2=['For','Geeks']\n",
    "list.append(list2)\n",
    "print(\"\\n list after addition of list2: \")\n",
    "print(list)"
   ]
  },
  {
   "cell_type": "code",
   "execution_count": 59,
   "id": "e815518d",
   "metadata": {},
   "outputs": [
    {
     "name": "stdout",
     "output_type": "stream",
     "text": [
      "['Geeks', 'For', 'Geeks']\n"
     ]
    }
   ],
   "source": [
    "list=[\"Geeks\",\"Geeks\"]\n",
    "list.insert(1,\"For\")\n",
    "print(list)"
   ]
  },
  {
   "cell_type": "code",
   "execution_count": 61,
   "id": "5436dbdf",
   "metadata": {},
   "outputs": [
    {
     "name": "stdout",
     "output_type": "stream",
     "text": [
      "1\n",
      "5\n"
     ]
    }
   ],
   "source": [
    "list=['a','a','b','c','a','a','a','d','c','d']\n",
    "print(list.count('b'))\n",
    "print(list.count('a'))"
   ]
  },
  {
   "cell_type": "code",
   "execution_count": 63,
   "id": "c0d7e8bb",
   "metadata": {},
   "outputs": [
    {
     "name": "stdout",
     "output_type": "stream",
     "text": [
      "[1, 2, 3, 5, 2, 3, 5]\n",
      "[1, 2, 3, 5, 2, 3]\n",
      "[2, 3, 5, 2, 3]\n"
     ]
    }
   ],
   "source": [
    "number=[1,2,3,4,5,2,3,5]\n",
    "number.pop(3)\n",
    "print(number)\n",
    "number.pop(-1)\n",
    "print(number)\n",
    "number.pop(0)\n",
    "print(number)"
   ]
  },
  {
   "cell_type": "code",
   "execution_count": 67,
   "id": "4bd3baa0",
   "metadata": {},
   "outputs": [
    {
     "name": "stdout",
     "output_type": "stream",
     "text": [
      "Maximum and minimum of 4,12,43.3, 19 and 100 is:  100 and 4\n"
     ]
    }
   ],
   "source": [
    "print(\"Maximum and minimum of 4,12,43.3, 19 and 100 is: \",end=\" \")\n",
    "print(max(4,12,43.3,19,100),\"and\",end=\" \")\n",
    "print(min(4,12,43.3,19,100))"
   ]
  },
  {
   "cell_type": "code",
   "execution_count": 68,
   "id": "20f54ce6",
   "metadata": {},
   "outputs": [
    {
     "name": "stdout",
     "output_type": "stream",
     "text": [
      "('Geeks', 'for', 'geeks')\n"
     ]
    }
   ],
   "source": [
    "var=(\"Geeks\",\"for\",\"geeks\")\n",
    "print(var)"
   ]
  },
  {
   "cell_type": "code",
   "execution_count": 69,
   "id": "0018d0cf",
   "metadata": {},
   "outputs": [
    {
     "name": "stdout",
     "output_type": "stream",
     "text": [
      "<class 'set'>\n"
     ]
    }
   ],
   "source": [
    "var={\"Geeks\",\"for\",\"Geeks\"}\n",
    "print(type(var))"
   ]
  },
  {
   "cell_type": "code",
   "execution_count": 70,
   "id": "bddd2e91",
   "metadata": {},
   "outputs": [
    {
     "name": "stdout",
     "output_type": "stream",
     "text": [
      "{1: 'Geeks', 2: 'For', 3: 'Geeks'}\n"
     ]
    }
   ],
   "source": [
    "dict={1:\"Geeks\",2:\"For\",3:\"Geeks\"}\n",
    "print(dict)"
   ]
  },
  {
   "cell_type": "code",
   "execution_count": 71,
   "id": "1e486cc9",
   "metadata": {},
   "outputs": [
    {
     "name": "stdout",
     "output_type": "stream",
     "text": [
      "{1: 'Geeks', 2: 'For', 3: {'A': 'Welcome', 'B': 'To', 'C': 'Geeks'}}\n"
     ]
    }
   ],
   "source": [
    "dict2={1:\"Geeks\",2:\"For\",3:{'A':\"Welcome\",'B':'To','C':\"Geeks\"}}\n",
    "print(dict2)"
   ]
  },
  {
   "cell_type": "code",
   "execution_count": 73,
   "id": "74255d8c",
   "metadata": {},
   "outputs": [
    {
     "data": {
      "text/plain": [
       "{1: 'Geeks',\n",
       " 2: 'For',\n",
       " 3: {'A': 'Welcome', 'B': 'To', 'C': 'Geeks'},\n",
       " 4: 'Hello'}"
      ]
     },
     "execution_count": 73,
     "metadata": {},
     "output_type": "execute_result"
    }
   ],
   "source": [
    "dict2[4]='Hello'\n",
    "dict2"
   ]
  },
  {
   "cell_type": "code",
   "execution_count": 75,
   "id": "d4b362fe",
   "metadata": {},
   "outputs": [
    {
     "name": "stdout",
     "output_type": "stream",
     "text": [
      "['G', 'e', 'e', 'k', 's', ' ', '4', ' ', 'g', 'e', 'e', 'k', 's', '!']\n"
     ]
    }
   ],
   "source": [
    "list=[]\n",
    "for character in \"Geeks 4 geeks!\":\n",
    "    list.append(character)\n",
    "print(list)"
   ]
  },
  {
   "cell_type": "code",
   "execution_count": 76,
   "id": "67c7b69c",
   "metadata": {},
   "outputs": [
    {
     "name": "stdout",
     "output_type": "stream",
     "text": [
      "{'a': 1, 'b': 2, 'c': 3, 'd': 4, 'e': 5}\n"
     ]
    }
   ],
   "source": [
    "keys=['a','b','c','d','e']\n",
    "values=[1,2,3,4,5]\n",
    "mydict={k:v for (k,v) in zip(keys,values)}\n",
    "print(mydict)"
   ]
  },
  {
   "cell_type": "code",
   "execution_count": null,
   "id": "1ecba669",
   "metadata": {},
   "outputs": [],
   "source": []
  },
  {
   "cell_type": "code",
   "execution_count": null,
   "id": "ac3f5061",
   "metadata": {},
   "outputs": [],
   "source": []
  },
  {
   "cell_type": "code",
   "execution_count": null,
   "id": "5ed129fd",
   "metadata": {},
   "outputs": [],
   "source": []
  }
 ],
 "metadata": {
  "kernelspec": {
   "display_name": "Python 3 (ipykernel)",
   "language": "python",
   "name": "python3"
  },
  "language_info": {
   "codemirror_mode": {
    "name": "ipython",
    "version": 3
   },
   "file_extension": ".py",
   "mimetype": "text/x-python",
   "name": "python",
   "nbconvert_exporter": "python",
   "pygments_lexer": "ipython3",
   "version": "3.10.9"
  }
 },
 "nbformat": 4,
 "nbformat_minor": 5
}
