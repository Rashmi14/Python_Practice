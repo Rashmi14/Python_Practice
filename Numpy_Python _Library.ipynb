{
 "cells": [
  {
   "cell_type": "code",
   "execution_count": 1,
   "id": "d3a8b743",
   "metadata": {},
   "outputs": [
    {
     "name": "stdout",
     "output_type": "stream",
     "text": [
      "[1 2 3 4 5]\n"
     ]
    }
   ],
   "source": [
    "import numpy as np\n",
    "a=np.array([1,2,3,4,5])\n",
    "print(a)"
   ]
  },
  {
   "cell_type": "code",
   "execution_count": 2,
   "id": "b795a46b",
   "metadata": {},
   "outputs": [
    {
     "name": "stdout",
     "output_type": "stream",
     "text": [
      "<class 'numpy.ndarray'>\n"
     ]
    }
   ],
   "source": [
    "print(type(a))"
   ]
  },
  {
   "cell_type": "code",
   "execution_count": 4,
   "id": "38e23913",
   "metadata": {},
   "outputs": [
    {
     "data": {
      "text/plain": [
       "array([0., 0., 0., 0., 0., 0., 0., 0., 0., 0.])"
      ]
     },
     "execution_count": 4,
     "metadata": {},
     "output_type": "execute_result"
    }
   ],
   "source": [
    "np.zeros(10)"
   ]
  },
  {
   "cell_type": "code",
   "execution_count": 6,
   "id": "6729abd7",
   "metadata": {},
   "outputs": [
    {
     "data": {
      "text/plain": [
       "array([[1., 1., 1., 1., 1.],\n",
       "       [1., 1., 1., 1., 1.],\n",
       "       [1., 1., 1., 1., 1.],\n",
       "       [1., 1., 1., 1., 1.],\n",
       "       [1., 1., 1., 1., 1.]])"
      ]
     },
     "execution_count": 6,
     "metadata": {},
     "output_type": "execute_result"
    }
   ],
   "source": [
    "np.ones((5,5))"
   ]
  },
  {
   "cell_type": "code",
   "execution_count": 7,
   "id": "489b4787",
   "metadata": {},
   "outputs": [
    {
     "data": {
      "text/plain": [
       "array([[1., 0., 0., 0., 0.],\n",
       "       [0., 1., 0., 0., 0.],\n",
       "       [0., 0., 1., 0., 0.],\n",
       "       [0., 0., 0., 1., 0.],\n",
       "       [0., 0., 0., 0., 1.]])"
      ]
     },
     "execution_count": 7,
     "metadata": {},
     "output_type": "execute_result"
    }
   ],
   "source": [
    "np.eye(5)"
   ]
  },
  {
   "cell_type": "code",
   "execution_count": 9,
   "id": "7e732fdf",
   "metadata": {},
   "outputs": [
    {
     "name": "stdout",
     "output_type": "stream",
     "text": [
      "[[ 1  2  3  4  5]\n",
      " [ 6  7  8  9 10]]\n"
     ]
    }
   ],
   "source": [
    "#2D array\n",
    "b=np.array([[1,2,3,4,5],[6,7,8,9,10]])\n",
    "print(b)"
   ]
  },
  {
   "cell_type": "code",
   "execution_count": 11,
   "id": "9a3d258d",
   "metadata": {},
   "outputs": [
    {
     "name": "stdout",
     "output_type": "stream",
     "text": [
      "[[[ 1  2  3]\n",
      "  [ 4  5  6]]\n",
      "\n",
      " [[ 7  8  9]\n",
      "  [10 11 12]]\n",
      "\n",
      " [[13 14 15]\n",
      "  [16 17 18]]]\n"
     ]
    }
   ],
   "source": [
    "#3D array\n",
    "c=np.array([[[1,2,3],[4,5,6]],[[7,8,9],[10,11,12]],[[13,14,15],[16,17,18]]])\n",
    "print(c)"
   ]
  },
  {
   "cell_type": "code",
   "execution_count": 25,
   "id": "cf1a57fc",
   "metadata": {},
   "outputs": [
    {
     "data": {
      "text/plain": [
       "array([9, 7, 8])"
      ]
     },
     "execution_count": 25,
     "metadata": {},
     "output_type": "execute_result"
    }
   ],
   "source": [
    "#here 1,15 is the range means give me 3 numbers having values between 1-15\n",
    "np.random.randint(1,15,3)"
   ]
  },
  {
   "cell_type": "code",
   "execution_count": 26,
   "id": "db724a51",
   "metadata": {},
   "outputs": [
    {
     "data": {
      "text/plain": [
       "array([[10, 14, 12,  6],\n",
       "       [ 1, 23, 16,  2],\n",
       "       [12,  0,  6, 18],\n",
       "       [22, 12, 21, 10]])"
      ]
     },
     "execution_count": 26,
     "metadata": {},
     "output_type": "execute_result"
    }
   ],
   "source": [
    "#3*3 arraywith random ints between 0-9\n",
    "#np.random.randint(15,size=(3,3))\n",
    "np.random.randint(25,size=(4,4))"
   ]
  },
  {
   "cell_type": "code",
   "execution_count": 23,
   "id": "7c88a709",
   "metadata": {},
   "outputs": [
    {
     "data": {
      "text/plain": [
       "array([ True,  True,  True, False,  True])"
      ]
     },
     "execution_count": 23,
     "metadata": {},
     "output_type": "execute_result"
    }
   ],
   "source": [
    "#bool datatype\n",
    "np.array([1,2,3,0,5],dtype=bool)"
   ]
  },
  {
   "cell_type": "code",
   "execution_count": 24,
   "id": "a82fa313",
   "metadata": {},
   "outputs": [
    {
     "data": {
      "text/plain": [
       "array([[1., 0., 0., 0., 0., 0., 0.],\n",
       "       [0., 1., 0., 0., 0., 0., 0.],\n",
       "       [0., 0., 1., 0., 0., 0., 0.],\n",
       "       [0., 0., 0., 1., 0., 0., 0.],\n",
       "       [0., 0., 0., 0., 1., 0., 0.],\n",
       "       [0., 0., 0., 0., 0., 1., 0.],\n",
       "       [0., 0., 0., 0., 0., 0., 1.]])"
      ]
     },
     "execution_count": 24,
     "metadata": {},
     "output_type": "execute_result"
    }
   ],
   "source": [
    "#7*7 array of 0 and 1 in diagonal Identity Matrix\n",
    "np.eye(7)"
   ]
  },
  {
   "cell_type": "code",
   "execution_count": 27,
   "id": "1265ca73",
   "metadata": {},
   "outputs": [
    {
     "data": {
      "text/plain": [
       "array([ 0,  3,  6,  9, 12])"
      ]
     },
     "execution_count": 27,
     "metadata": {},
     "output_type": "execute_result"
    }
   ],
   "source": [
    "#Array of values from 0 to less than 15 with step 3\n",
    "np.arange(0,15,3)"
   ]
  },
  {
   "cell_type": "code",
   "execution_count": 28,
   "id": "6181cc28",
   "metadata": {},
   "outputs": [
    {
     "name": "stdout",
     "output_type": "stream",
     "text": [
      "[[[ 0  1]\n",
      "  [ 2  3]]\n",
      "\n",
      " [[ 4  5]\n",
      "  [ 6  7]]\n",
      "\n",
      " [[ 8  9]\n",
      "  [10 11]]]\n"
     ]
    }
   ],
   "source": [
    "from numpy import*\n",
    "a=arange(12)\n",
    "a=a.reshape(3,2,2)\n",
    "print(a)"
   ]
  },
  {
   "cell_type": "code",
   "execution_count": 29,
   "id": "f9d3b1be",
   "metadata": {},
   "outputs": [
    {
     "data": {
      "text/plain": [
       "array([[1, 5],\n",
       "       [2, 6],\n",
       "       [3, 7],\n",
       "       [4, 8]])"
      ]
     },
     "execution_count": 29,
     "metadata": {},
     "output_type": "execute_result"
    }
   ],
   "source": [
    "trans=np.array([(1,2,3,4),(5,6,7,8)])\n",
    "trans.T"
   ]
  },
  {
   "cell_type": "code",
   "execution_count": 30,
   "id": "8ca66627",
   "metadata": {},
   "outputs": [
    {
     "data": {
      "text/plain": [
       "array([[1, 2],\n",
       "       [3, 4],\n",
       "       [5, 6],\n",
       "       [7, 8]])"
      ]
     },
     "execution_count": 30,
     "metadata": {},
     "output_type": "execute_result"
    }
   ],
   "source": [
    "trans.reshape(4,2)"
   ]
  },
  {
   "cell_type": "code",
   "execution_count": 31,
   "id": "66a01ea8",
   "metadata": {},
   "outputs": [
    {
     "data": {
      "text/plain": [
       "array([[1, 2, 3, 4, 5, 6],\n",
       "       [7, 8, 0, 0, 0, 0],\n",
       "       [0, 0, 0, 0, 0, 0],\n",
       "       [0, 0, 0, 0, 0, 0],\n",
       "       [0, 0, 0, 0, 0, 0],\n",
       "       [0, 0, 0, 0, 0, 0]])"
      ]
     },
     "execution_count": 31,
     "metadata": {},
     "output_type": "execute_result"
    }
   ],
   "source": [
    "#Changes arr shape to 6*6 and fills new values with 0\n",
    "trans.resize((6,6), refcheck=False)\n",
    "trans"
   ]
  },
  {
   "cell_type": "code",
   "execution_count": 32,
   "id": "354fe374",
   "metadata": {},
   "outputs": [
    {
     "data": {
      "text/plain": [
       "7"
      ]
     },
     "execution_count": 32,
     "metadata": {},
     "output_type": "execute_result"
    }
   ],
   "source": [
    "#returns number of elements in arr\n",
    "arr= np.array([1,2,3,4,6,7,9])\n",
    "arr.size"
   ]
  },
  {
   "cell_type": "code",
   "execution_count": 33,
   "id": "fd5991fd",
   "metadata": {},
   "outputs": [
    {
     "data": {
      "text/plain": [
       "array([1, 2, 3, 4, 6, 7, 9, 0, 1, 2, 3, 4, 5])"
      ]
     },
     "execution_count": 33,
     "metadata": {},
     "output_type": "execute_result"
    }
   ],
   "source": [
    "#Appends values to end of arr\n",
    "arr2=np.append(arr,[0,1,2,3,4,5])\n",
    "arr2"
   ]
  },
  {
   "cell_type": "code",
   "execution_count": 34,
   "id": "31986d13",
   "metadata": {},
   "outputs": [
    {
     "data": {
      "text/plain": [
       "array([1, 2, 4, 3, 4, 6, 7, 9, 0, 1, 2, 3, 4, 5])"
      ]
     },
     "execution_count": 34,
     "metadata": {},
     "output_type": "execute_result"
    }
   ],
   "source": [
    "#insert values into arr before index 2\n",
    "np.insert(arr2,2,4)"
   ]
  },
  {
   "cell_type": "code",
   "execution_count": 35,
   "id": "de57e346",
   "metadata": {},
   "outputs": [
    {
     "data": {
      "text/plain": [
       "array([1, 2, 3, 4, 6, 7, 8, 0, 0, 0, 0, 0, 0, 0, 0, 0, 0, 0, 0, 0, 0, 0,\n",
       "       0, 0, 0, 0, 0, 0, 0, 0, 0, 0, 0, 0, 0])"
      ]
     },
     "execution_count": 35,
     "metadata": {},
     "output_type": "execute_result"
    }
   ],
   "source": [
    "#delete row on index 4 of arr\n",
    "np.delete(trans,4)"
   ]
  },
  {
   "cell_type": "code",
   "execution_count": 36,
   "id": "65437f30",
   "metadata": {},
   "outputs": [
    {
     "data": {
      "text/plain": [
       "array([[1, 2, 3, 4, 5],\n",
       "       [7, 8, 0, 0, 0],\n",
       "       [0, 0, 0, 0, 0],\n",
       "       [0, 0, 0, 0, 0],\n",
       "       [0, 0, 0, 0, 0],\n",
       "       [0, 0, 0, 0, 0]])"
      ]
     },
     "execution_count": 36,
     "metadata": {},
     "output_type": "execute_result"
    }
   ],
   "source": [
    "#deletes column on index 5 of arr\n",
    "np.delete(trans,5,axis=1)"
   ]
  },
  {
   "cell_type": "code",
   "execution_count": 37,
   "id": "a2068ff9",
   "metadata": {},
   "outputs": [
    {
     "data": {
      "text/plain": [
       "1"
      ]
     },
     "execution_count": 37,
     "metadata": {},
     "output_type": "execute_result"
    }
   ],
   "source": [
    "abs(-1)"
   ]
  },
  {
   "cell_type": "code",
   "execution_count": 38,
   "id": "3e715709",
   "metadata": {},
   "outputs": [
    {
     "data": {
      "text/plain": [
       "array([ 1.,  3.,  6., 10.])"
      ]
     },
     "execution_count": 38,
     "metadata": {},
     "output_type": "execute_result"
    }
   ],
   "source": [
    "add.accumulate(array([1.,2.,3.,4.]))"
   ]
  },
  {
   "cell_type": "code",
   "execution_count": 39,
   "id": "981c7813",
   "metadata": {},
   "outputs": [
    {
     "data": {
      "text/plain": [
       "array([ 1.,  2.,  6., 24.])"
      ]
     },
     "execution_count": 39,
     "metadata": {},
     "output_type": "execute_result"
    }
   ],
   "source": [
    "multiply.accumulate(array([1.,2.,3.,4.]))"
   ]
  },
  {
   "cell_type": "code",
   "execution_count": 40,
   "id": "b785d130",
   "metadata": {},
   "outputs": [
    {
     "data": {
      "text/plain": [
       "array([[1, 2, 3],\n",
       "       [5, 7, 9]])"
      ]
     },
     "execution_count": 40,
     "metadata": {},
     "output_type": "execute_result"
    }
   ],
   "source": [
    "add.accumulate(array([[1,2,3],[4,5,6]]),axis=0)"
   ]
  },
  {
   "cell_type": "code",
   "execution_count": 41,
   "id": "f7a5e5fe",
   "metadata": {},
   "outputs": [
    {
     "data": {
      "text/plain": [
       "array([-0.2,  4.2])"
      ]
     },
     "execution_count": 41,
     "metadata": {},
     "output_type": "execute_result"
    }
   ],
   "source": [
    "add(array([-1.2,1.2]), array([1,3]))"
   ]
  },
  {
   "cell_type": "code",
   "execution_count": 42,
   "id": "98f3b1f9",
   "metadata": {},
   "outputs": [
    {
     "data": {
      "text/plain": [
       "array([-0.2,  4.2])"
      ]
     },
     "execution_count": 42,
     "metadata": {},
     "output_type": "execute_result"
    }
   ],
   "source": [
    "array([-1.2,1.2])+array([1,3])"
   ]
  },
  {
   "cell_type": "code",
   "execution_count": 43,
   "id": "7e554ba0",
   "metadata": {},
   "outputs": [
    {
     "data": {
      "text/plain": [
       "False"
      ]
     },
     "execution_count": 43,
     "metadata": {},
     "output_type": "execute_result"
    }
   ],
   "source": [
    "a= array([True,False,True])\n",
    "a.all()"
   ]
  },
  {
   "cell_type": "code",
   "execution_count": 44,
   "id": "aefeb421",
   "metadata": {},
   "outputs": [
    {
     "data": {
      "text/plain": [
       "False"
      ]
     },
     "execution_count": 44,
     "metadata": {},
     "output_type": "execute_result"
    }
   ],
   "source": [
    "allclose(array([1e10,1e-7]), array([1.00001e10,1e-8]))"
   ]
  },
  {
   "cell_type": "code",
   "execution_count": 45,
   "id": "f41b1a40",
   "metadata": {},
   "outputs": [
    {
     "data": {
      "text/plain": [
       "0.7853981633974483"
      ]
     },
     "execution_count": 45,
     "metadata": {},
     "output_type": "execute_result"
    }
   ],
   "source": [
    "#in radians\n",
    "angle(1+1j)"
   ]
  },
  {
   "cell_type": "code",
   "execution_count": 46,
   "id": "f6361fdc",
   "metadata": {},
   "outputs": [
    {
     "data": {
      "text/plain": [
       "45.0"
      ]
     },
     "execution_count": 46,
     "metadata": {},
     "output_type": "execute_result"
    }
   ],
   "source": [
    "#in degrees\n",
    "angle(1+1j,deg=True)"
   ]
  },
  {
   "cell_type": "code",
   "execution_count": 48,
   "id": "8ac07a5e",
   "metadata": {},
   "outputs": [
    {
     "data": {
      "text/plain": [
       "True"
      ]
     },
     "execution_count": 48,
     "metadata": {},
     "output_type": "execute_result"
    }
   ],
   "source": [
    "a=array([True, False, True])\n",
    "a.any()"
   ]
  },
  {
   "cell_type": "code",
   "execution_count": 49,
   "id": "008ebb4e",
   "metadata": {},
   "outputs": [
    {
     "data": {
      "text/plain": [
       "array([10, 20, 30, 40, 50])"
      ]
     },
     "execution_count": 49,
     "metadata": {},
     "output_type": "execute_result"
    }
   ],
   "source": [
    "from numpy import*\n",
    "a=array([10,20,30,40])\n",
    "append(a,50)"
   ]
  },
  {
   "cell_type": "code",
   "execution_count": 50,
   "id": "c41e4929",
   "metadata": {},
   "outputs": [
    {
     "data": {
      "text/plain": [
       "array([10, 20, 30, 40, 50, 60])"
      ]
     },
     "execution_count": 50,
     "metadata": {},
     "output_type": "execute_result"
    }
   ],
   "source": [
    "array([10, 20, 30, 40, 50])\n",
    "append(a,[50,60])"
   ]
  },
  {
   "cell_type": "code",
   "execution_count": 51,
   "id": "07d0f003",
   "metadata": {},
   "outputs": [
    {
     "data": {
      "text/plain": [
       "array([10, 20, 30, 40, 59, 60])"
      ]
     },
     "execution_count": 51,
     "metadata": {},
     "output_type": "execute_result"
    }
   ],
   "source": [
    "array([10, 20, 30, 40, 50])\n",
    "append(a,[59,60])"
   ]
  },
  {
   "cell_type": "code",
   "execution_count": 52,
   "id": "f1abd7a4",
   "metadata": {},
   "outputs": [
    {
     "name": "stdout",
     "output_type": "stream",
     "text": [
      "a.tolist()\n",
      "\n",
      "Return the array as an ``a.ndim``-levels deep nested list of Python scalars.\n",
      "\n",
      "Return a copy of the array data as a (nested) Python list.\n",
      "Data items are converted to the nearest compatible builtin Python type, via\n",
      "the `~numpy.ndarray.item` function.\n",
      "\n",
      "If ``a.ndim`` is 0, then since the depth of the nested list is 0, it will\n",
      "not be a list at all, but a simple Python scalar.\n",
      "\n",
      "Parameters\n",
      "----------\n",
      "none\n",
      "\n",
      "Returns\n",
      "-------\n",
      "y : object, or list of object, or list of list of object, or ...\n",
      "    The possibly nested list of array elements.\n",
      "\n",
      "Notes\n",
      "-----\n",
      "The array may be recreated via ``a = np.array(a.tolist())``, although this\n",
      "may sometimes lose precision.\n",
      "\n",
      "Examples\n",
      "--------\n",
      "For a 1D array, ``a.tolist()`` is almost the same as ``list(a)``,\n",
      "except that ``tolist`` changes numpy scalars to Python scalars:\n",
      "\n",
      ">>> a = np.uint32([1, 2])\n",
      ">>> a_list = list(a)\n",
      ">>> a_list\n",
      "[1, 2]\n",
      ">>> type(a_list[0])\n",
      "<class 'numpy.uint32'>\n",
      ">>> a_tolist = a.tolist()\n",
      ">>> a_tolist\n",
      "[1, 2]\n",
      ">>> type(a_tolist[0])\n",
      "<class 'int'>\n",
      "\n",
      "Additionally, for a 2D array, ``tolist`` applies recursively:\n",
      "\n",
      ">>> a = np.array([[1, 2], [3, 4]])\n",
      ">>> list(a)\n",
      "[array([1, 2]), array([3, 4])]\n",
      ">>> a.tolist()\n",
      "[[1, 2], [3, 4]]\n",
      "\n",
      "The base case for this recursion is a 0D array:\n",
      "\n",
      ">>> a = np.array(1)\n",
      ">>> list(a)\n",
      "Traceback (most recent call last):\n",
      "  ...\n",
      "TypeError: iteration over a 0-d array\n",
      ">>> a.tolist()\n",
      "1\n"
     ]
    }
   ],
   "source": [
    "#view documentation for arr.tolist\n",
    "np.info(arr.tolist)"
   ]
  },
  {
   "cell_type": "code",
   "execution_count": 54,
   "id": "09a65ac8",
   "metadata": {},
   "outputs": [
    {
     "data": {
      "text/plain": [
       "array([4., 5., 6.])"
      ]
     },
     "execution_count": 54,
     "metadata": {},
     "output_type": "execute_result"
    }
   ],
   "source": [
    "from numpy import *\n",
    "def myfun(a): #fun works on a 1 D arrays, takes the average of the 1st and the last element\n",
    "    return(a[0]+a[-1])/2\n",
    "b=array([[1,2,3],[4,5,6],[7,8,9]])\n",
    "apply_along_axis(myfun,0,b)"
   ]
  },
  {
   "cell_type": "code",
   "execution_count": 1,
   "id": "c9e7f5ce",
   "metadata": {},
   "outputs": [
    {
     "data": {
      "text/plain": [
       "array([[[ 0,  1,  2,  3],\n",
       "        [ 4,  5,  6,  7],\n",
       "        [ 8,  9, 10, 11]],\n",
       "\n",
       "       [[12, 13, 14, 15],\n",
       "        [16, 17, 18, 19],\n",
       "        [20, 21, 22, 23]]])"
      ]
     },
     "execution_count": 1,
     "metadata": {},
     "output_type": "execute_result"
    }
   ],
   "source": [
    "from numpy import*\n",
    "a=arange(24).reshape(2,3,4)\n",
    "a"
   ]
  },
  {
   "cell_type": "code",
   "execution_count": 2,
   "id": "43dcb6e3",
   "metadata": {},
   "outputs": [
    {
     "data": {
      "text/plain": [
       "array([[[ 60],\n",
       "        [ 92],\n",
       "        [124]]])"
      ]
     },
     "execution_count": 2,
     "metadata": {},
     "output_type": "execute_result"
    }
   ],
   "source": [
    "#sum over all axes except axis=1, result has same shape as original\n",
    "apply_over_axes(sum, a,[0,2])"
   ]
  },
  {
   "cell_type": "code",
   "execution_count": 3,
   "id": "9f5da391",
   "metadata": {},
   "outputs": [
    {
     "data": {
      "text/plain": [
       "array([0, 1, 2, 3, 4])"
      ]
     },
     "execution_count": 3,
     "metadata": {},
     "output_type": "execute_result"
    }
   ],
   "source": [
    "from numpy import*\n",
    "arange(5)"
   ]
  },
  {
   "cell_type": "code",
   "execution_count": 4,
   "id": "dec4465e",
   "metadata": {},
   "outputs": [
    {
     "data": {
      "text/plain": [
       "array([0., 1., 2., 3., 4.])"
      ]
     },
     "execution_count": 4,
     "metadata": {},
     "output_type": "execute_result"
    }
   ],
   "source": [
    "arange((5.0))"
   ]
  },
  {
   "cell_type": "code",
   "execution_count": 5,
   "id": "6570caf1",
   "metadata": {},
   "outputs": [
    {
     "data": {
      "text/plain": [
       "array([1.57079633, 0.        ])"
      ]
     },
     "execution_count": 5,
     "metadata": {},
     "output_type": "execute_result"
    }
   ],
   "source": [
    "from numpy import *\n",
    "arccos(array([0,1]))"
   ]
  },
  {
   "cell_type": "code",
   "execution_count": 8,
   "id": "580dbd07",
   "metadata": {},
   "outputs": [
    {
     "data": {
      "text/plain": [
       "array([1.65745445, 2.99322285])"
      ]
     },
     "execution_count": 8,
     "metadata": {},
     "output_type": "execute_result"
    }
   ],
   "source": [
    "arccosh(array([e,10.0]))"
   ]
  },
  {
   "cell_type": "code",
   "execution_count": 9,
   "id": "5c8f3581",
   "metadata": {},
   "outputs": [
    {
     "data": {
      "text/plain": [
       "array([0.        , 1.57079633])"
      ]
     },
     "execution_count": 9,
     "metadata": {},
     "output_type": "execute_result"
    }
   ],
   "source": [
    "arcsin(array([0,1]))"
   ]
  },
  {
   "cell_type": "code",
   "execution_count": 10,
   "id": "ac7e3683",
   "metadata": {},
   "outputs": [
    {
     "data": {
      "text/plain": [
       "array([1.72538256, 2.99822295])"
      ]
     },
     "execution_count": 10,
     "metadata": {},
     "output_type": "execute_result"
    }
   ],
   "source": [
    "arcsinh(array([e,10.0]))"
   ]
  },
  {
   "cell_type": "code",
   "execution_count": 11,
   "id": "8dcfc84d",
   "metadata": {},
   "outputs": [
    {
     "data": {
      "text/plain": [
       "array([0.        , 0.78539816])"
      ]
     },
     "execution_count": 11,
     "metadata": {},
     "output_type": "execute_result"
    }
   ],
   "source": [
    "arctan(array([0,1]))"
   ]
  },
  {
   "cell_type": "code",
   "execution_count": 12,
   "id": "7ad7ccc0",
   "metadata": {},
   "outputs": [
    {
     "data": {
      "text/plain": [
       "array([0.        , 1.57079633])"
      ]
     },
     "execution_count": 12,
     "metadata": {},
     "output_type": "execute_result"
    }
   ],
   "source": [
    "arctan2(array([0,1]),array([1,0]))"
   ]
  },
  {
   "cell_type": "code",
   "execution_count": 13,
   "id": "591bb9c1",
   "metadata": {},
   "outputs": [
    {
     "data": {
      "text/plain": [
       "array([ 0.        , -0.54930614])"
      ]
     },
     "execution_count": 13,
     "metadata": {},
     "output_type": "execute_result"
    }
   ],
   "source": [
    "arctanh(array([0,-0.5]))"
   ]
  },
  {
   "cell_type": "code",
   "execution_count": 14,
   "id": "2eaf65b4",
   "metadata": {},
   "outputs": [
    {
     "data": {
      "text/plain": [
       "30"
      ]
     },
     "execution_count": 14,
     "metadata": {},
     "output_type": "execute_result"
    }
   ],
   "source": [
    "from numpy import *\n",
    "a=array([10,20,30])\n",
    "maxindex=a.argmax()\n",
    "a[maxindex]"
   ]
  },
  {
   "cell_type": "code",
   "execution_count": 16,
   "id": "b4a5f4df",
   "metadata": {},
   "outputs": [
    {
     "data": {
      "text/plain": [
       "5"
      ]
     },
     "execution_count": 16,
     "metadata": {},
     "output_type": "execute_result"
    }
   ],
   "source": [
    "a=array([[10,20,30],[40,70,90]])\n",
    "maxindex=a.argmax()\n",
    "maxindex"
   ]
  },
  {
   "cell_type": "code",
   "execution_count": 17,
   "id": "54dffa8e",
   "metadata": {},
   "outputs": [
    {
     "data": {
      "text/plain": [
       "90"
      ]
     },
     "execution_count": 17,
     "metadata": {},
     "output_type": "execute_result"
    }
   ],
   "source": [
    "a.ravel()[maxindex]"
   ]
  },
  {
   "cell_type": "code",
   "execution_count": 19,
   "id": "3df1f730",
   "metadata": {},
   "outputs": [
    {
     "data": {
      "text/plain": [
       "array([1, 1, 1], dtype=int64)"
      ]
     },
     "execution_count": 19,
     "metadata": {},
     "output_type": "execute_result"
    }
   ],
   "source": [
    "#for each column: the row index of the maximum value\n",
    "a.argmax(axis=0)"
   ]
  },
  {
   "cell_type": "code",
   "execution_count": 20,
   "id": "22b111c1",
   "metadata": {},
   "outputs": [
    {
     "data": {
      "text/plain": [
       "array([2, 2], dtype=int64)"
      ]
     },
     "execution_count": 20,
     "metadata": {},
     "output_type": "execute_result"
    }
   ],
   "source": [
    "#for each row: the column index of the maximum value\n",
    "a.argmax(axis=1)"
   ]
  },
  {
   "cell_type": "code",
   "execution_count": 21,
   "id": "859987e0",
   "metadata": {},
   "outputs": [
    {
     "data": {
      "text/plain": [
       "0"
      ]
     },
     "execution_count": 21,
     "metadata": {},
     "output_type": "execute_result"
    }
   ],
   "source": [
    "#also exists, slower, default is axis=-1\n",
    "argmin(a)"
   ]
  },
  {
   "cell_type": "code",
   "execution_count": 22,
   "id": "85983673",
   "metadata": {},
   "outputs": [
    {
     "data": {
      "text/plain": [
       "array([2, 0, 8, 4, 1])"
      ]
     },
     "execution_count": 22,
     "metadata": {},
     "output_type": "execute_result"
    }
   ],
   "source": [
    "from numpy import *\n",
    "a= array([2,0,8,4,1])\n",
    "a"
   ]
  },
  {
   "cell_type": "code",
   "execution_count": 23,
   "id": "d38ed7d8",
   "metadata": {},
   "outputs": [
    {
     "data": {
      "text/plain": [
       "array([1, 4, 0, 3, 2], dtype=int64)"
      ]
     },
     "execution_count": 23,
     "metadata": {},
     "output_type": "execute_result"
    }
   ],
   "source": [
    "#indices of sorted array using quicksort(default)\n",
    "ind=a.argsort()\n",
    "ind"
   ]
  },
  {
   "cell_type": "code",
   "execution_count": 24,
   "id": "0e986490",
   "metadata": {},
   "outputs": [
    {
     "data": {
      "text/plain": [
       "array([0, 1, 2, 4, 8])"
      ]
     },
     "execution_count": 24,
     "metadata": {},
     "output_type": "execute_result"
    }
   ],
   "source": [
    "#same as a.sort()\n",
    "a[ind]"
   ]
  },
  {
   "cell_type": "code",
   "execution_count": 28,
   "id": "c43c6ee9",
   "metadata": {},
   "outputs": [
    {
     "data": {
      "text/plain": [
       "array([[1, 1, 0],\n",
       "       [0, 0, 1]], dtype=int64)"
      ]
     },
     "execution_count": 28,
     "metadata": {},
     "output_type": "execute_result"
    }
   ],
   "source": [
    "ind=a.argsort(kind='merge')\n",
    "a=array([[8,4,1],[2,0,9]])\n",
    "ind=a.argsort(axis=0) #sorts on cloumns. NOT the same as a.sort(axis=1)\n",
    "ind"
   ]
  },
  {
   "cell_type": "code",
   "execution_count": 27,
   "id": "327049d6",
   "metadata": {},
   "outputs": [
    {
     "data": {
      "text/plain": [
       "1"
      ]
     },
     "execution_count": 27,
     "metadata": {},
     "output_type": "execute_result"
    }
   ],
   "source": [
    "from numpy import*\n",
    "abs(-1)"
   ]
  },
  {
   "cell_type": "code",
   "execution_count": 29,
   "id": "2f97521f",
   "metadata": {},
   "outputs": [
    {
     "data": {
      "text/plain": [
       "array([1.2, 1.2])"
      ]
     },
     "execution_count": 29,
     "metadata": {},
     "output_type": "execute_result"
    }
   ],
   "source": [
    "abs(array([-1.2,1.2]))"
   ]
  },
  {
   "cell_type": "code",
   "execution_count": 30,
   "id": "1f25b1c8",
   "metadata": {},
   "outputs": [
    {
     "data": {
      "text/plain": [
       "1.5620499351813308"
      ]
     },
     "execution_count": 30,
     "metadata": {},
     "output_type": "execute_result"
    }
   ],
   "source": [
    "abs(1.2+1j)"
   ]
  },
  {
   "cell_type": "code",
   "execution_count": 32,
   "id": "9a23f252",
   "metadata": {},
   "outputs": [
    {
     "data": {
      "text/plain": [
       "array([ 1.,  3.,  6., 10.])"
      ]
     },
     "execution_count": 32,
     "metadata": {},
     "output_type": "execute_result"
    }
   ],
   "source": [
    "#like reduce() but also gives intermediate results\n",
    "from numpy import *\n",
    "add.accumulate(array([1.,2.,3.,4.]))"
   ]
  },
  {
   "cell_type": "code",
   "execution_count": 33,
   "id": "424e45ee",
   "metadata": {},
   "outputs": [
    {
     "data": {
      "text/plain": [
       "array([ 1.,  2.,  6., 24.])"
      ]
     },
     "execution_count": 33,
     "metadata": {},
     "output_type": "execute_result"
    }
   ],
   "source": [
    "#works also with other operands\n",
    "multiply.accumulate(array([1.,2.,3.,4.]))"
   ]
  },
  {
   "cell_type": "code",
   "execution_count": 35,
   "id": "ab9f5f96",
   "metadata": {},
   "outputs": [
    {
     "data": {
      "text/plain": [
       "array([  0. ,  37.5,  75. , 112.5, 150. ])"
      ]
     },
     "execution_count": 35,
     "metadata": {},
     "output_type": "execute_result"
    }
   ],
   "source": [
    "#Array of 5 evenly divided values from 0 to 150\n",
    "import numpy as np\n",
    "np.linspace(0,150,5)"
   ]
  },
  {
   "cell_type": "code",
   "execution_count": 37,
   "id": "55e3bf16",
   "metadata": {},
   "outputs": [
    {
     "data": {
      "text/plain": [
       "9"
      ]
     },
     "execution_count": 37,
     "metadata": {},
     "output_type": "execute_result"
    }
   ],
   "source": [
    "arr=np.array([1,2,3,4,5,6,7,8,9])\n",
    "arr.size"
   ]
  },
  {
   "cell_type": "code",
   "execution_count": 38,
   "id": "e4e7473e",
   "metadata": {},
   "outputs": [
    {
     "data": {
      "text/plain": [
       "(9,)"
      ]
     },
     "execution_count": 38,
     "metadata": {},
     "output_type": "execute_result"
    }
   ],
   "source": [
    "#returns dimensions of arr(rows,columns)\n",
    "arr.shape"
   ]
  },
  {
   "cell_type": "code",
   "execution_count": 39,
   "id": "83a74b0c",
   "metadata": {},
   "outputs": [
    {
     "data": {
      "text/plain": [
       "[1, 2, 3, 4, 5, 6, 7, 8, 9]"
      ]
     },
     "execution_count": 39,
     "metadata": {},
     "output_type": "execute_result"
    }
   ],
   "source": [
    "#convert arr to a python list\n",
    "arr.tolist()"
   ]
  },
  {
   "cell_type": "code",
   "execution_count": 40,
   "id": "d545daa9",
   "metadata": {},
   "outputs": [
    {
     "data": {
      "text/plain": [
       "array([1, 2, 3, 4, 5, 6, 7, 8, 9])"
      ]
     },
     "execution_count": 40,
     "metadata": {},
     "output_type": "execute_result"
    }
   ],
   "source": [
    "#copies arr to new memory\n",
    "np.copy(arr)"
   ]
  },
  {
   "cell_type": "code",
   "execution_count": 41,
   "id": "3478b757",
   "metadata": {},
   "outputs": [
    {
     "data": {
      "text/plain": [
       "array([1, 2, 3, 4, 5, 6, 7, 8, 9])"
      ]
     },
     "execution_count": 41,
     "metadata": {},
     "output_type": "execute_result"
    }
   ],
   "source": [
    "#sorts arr\n",
    "arr.sort()\n",
    "arr"
   ]
  },
  {
   "cell_type": "code",
   "execution_count": 42,
   "id": "300a5cdf",
   "metadata": {},
   "outputs": [
    {
     "data": {
      "text/plain": [
       "array([1, 2, 3, 4, 5, 6, 7, 8, 9])"
      ]
     },
     "execution_count": 42,
     "metadata": {},
     "output_type": "execute_result"
    }
   ],
   "source": [
    "#sorts specific axis of arr\n",
    "arr.sort(axis=0)\n",
    "arr"
   ]
  },
  {
   "cell_type": "code",
   "execution_count": 43,
   "id": "9dcb85e1",
   "metadata": {},
   "outputs": [
    {
     "data": {
      "text/plain": [
       "array([1, 2, 3, 4, 5, 6, 7, 8, 9, 0, 1, 2, 4, 5])"
      ]
     },
     "execution_count": 43,
     "metadata": {},
     "output_type": "execute_result"
    }
   ],
   "source": [
    "#appends value to the end of arr\n",
    "arr2=np.append(arr,[0,1,2,4,5])\n",
    "arr2"
   ]
  },
  {
   "cell_type": "code",
   "execution_count": 44,
   "id": "f78d5b0b",
   "metadata": {},
   "outputs": [
    {
     "data": {
      "text/plain": [
       "array([1, 2, 3, 4, 5, 6, 7, 8, 9, 1, 2, 3, 4, 5, 6, 7, 8, 9, 0, 1, 2, 4,\n",
       "       5])"
      ]
     },
     "execution_count": 44,
     "metadata": {},
     "output_type": "execute_result"
    }
   ],
   "source": [
    "np.concatenate((arr,arr2),axis=0)#adds arr2 as rows to the end of arr1"
   ]
  },
  {
   "cell_type": "code",
   "execution_count": 45,
   "id": "29378fd7",
   "metadata": {},
   "outputs": [
    {
     "data": {
      "text/plain": [
       "array([[1, 2, 3, 4, 1, 2, 3, 4],\n",
       "       [5, 6, 7, 8, 5, 6, 7, 8]])"
      ]
     },
     "execution_count": 45,
     "metadata": {},
     "output_type": "execute_result"
    }
   ],
   "source": [
    "#adds arr2 as columns to end of arr1\n",
    "trans=np.array([(1,2,3,4),(5,6,7,8)])\n",
    "np.concatenate((trans,trans), axis=1)"
   ]
  },
  {
   "cell_type": "code",
   "execution_count": null,
   "id": "7694de31",
   "metadata": {},
   "outputs": [],
   "source": []
  }
 ],
 "metadata": {
  "kernelspec": {
   "display_name": "Python 3 (ipykernel)",
   "language": "python",
   "name": "python3"
  },
  "language_info": {
   "codemirror_mode": {
    "name": "ipython",
    "version": 3
   },
   "file_extension": ".py",
   "mimetype": "text/x-python",
   "name": "python",
   "nbconvert_exporter": "python",
   "pygments_lexer": "ipython3",
   "version": "3.10.9"
  }
 },
 "nbformat": 4,
 "nbformat_minor": 5
}
